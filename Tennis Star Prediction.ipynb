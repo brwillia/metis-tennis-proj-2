{
 "cells": [
  {
   "cell_type": "markdown",
   "metadata": {},
   "source": [
    "# Project 2: Regression\n",
    "\n",
    "## Backstory:\n",
    "\n",
    "Using information we scrape from the web, build linear regression models from which we can learn about movies, sports, or categories."
   ]
  },
  {
   "cell_type": "code",
   "execution_count": 1,
   "metadata": {
    "tags": []
   },
   "outputs": [
    {
     "output_type": "stream",
     "name": "stdout",
     "text": "{'User-agent': 'Mozilla/5.0 (X11; Ubuntu; Linux i686 on x86_64) AppleWebKit/537.36 (KHTML, like Gecko) Chrome/53.0.2820.59 Safari/537.36'}\n"
    }
   ],
   "source": [
    "from bs4 import BeautifulSoup\n",
    "# import requests\n",
    "import time, os\n",
    "import numpy as np\n",
    "import pandas as pd\n",
    "\n",
    "from selenium import webdriver\n",
    "from selenium.webdriver.common.keys import Keys\n",
    "\n",
    "chromedriver = \"/Applications/chromedriver\" # path to the chromedriver executable\n",
    "os.environ[\"webdriver.chrome.driver\"] = chromedriver\n",
    "\n",
    "from fake_useragent import UserAgent\n",
    "\n",
    "ua = UserAgent()\n",
    "user_agent = {'User-agent': ua.random}\n",
    "print(user_agent)\n",
    "\n",
    "url = \"https://www.atptour.com/en/rankings/singles\"\n",
    "\n",
    "driver = webdriver.Chrome(chromedriver)\n",
    "driver.get(url)\n",
    "soup = BeautifulSoup(driver.page_source, 'html.parser')"
   ]
  },
  {
   "source": [
    "### Overview rankings table scrape:"
   ],
   "cell_type": "markdown",
   "metadata": {}
  },
  {
   "cell_type": "code",
   "execution_count": 2,
   "metadata": {},
   "outputs": [],
   "source": [
    "ranks=[]\n",
    "for element in soup.find_all('td', class_='rank-cell'):\n",
    "    ranks.append(int(element.text.strip()))"
   ]
  },
  {
   "cell_type": "code",
   "execution_count": 3,
   "metadata": {},
   "outputs": [],
   "source": [
    "players=[]\n",
    "for element in soup.find_all('td', class_='player-cell'):\n",
    "    players.append(element.text.strip('\\n').lstrip())"
   ]
  },
  {
   "cell_type": "code",
   "execution_count": 4,
   "metadata": {},
   "outputs": [],
   "source": [
    "countries=[]\n",
    "for element in soup.find_all('td', class_='country-cell'):\n",
    "    countries.append(element.find('img').get('alt'))"
   ]
  },
  {
   "cell_type": "code",
   "execution_count": 5,
   "metadata": {},
   "outputs": [],
   "source": [
    "ages=[]\n",
    "for element in soup.find_all('td', class_='age-cell'):\n",
    "    ages.append(int(element.text.strip()))"
   ]
  },
  {
   "cell_type": "code",
   "execution_count": 6,
   "metadata": {},
   "outputs": [],
   "source": [
    "points=[]\n",
    "for element in soup.find_all('td', class_='points-cell'):\n",
    "    points.append(element.text.strip())\n"
   ]
  },
  {
   "cell_type": "code",
   "execution_count": 7,
   "metadata": {},
   "outputs": [],
   "source": [
    "tourns = []\n",
    "for element in soup.find_all('td', class_='tourn-cell'):\n",
    "    tourns.append(element.text.strip())\n",
    "# print(tourns)"
   ]
  },
  {
   "cell_type": "code",
   "execution_count": 8,
   "metadata": {},
   "outputs": [],
   "source": [
    "player_urls = []\n",
    "for element in soup.find_all('td', class_='player-cell'):\n",
    "    player_urls.append(element.find('a').get('href'))\n",
    "# print(player_urls)"
   ]
  },
  {
   "source": [
    "### Per player data scrape:"
   ],
   "cell_type": "markdown",
   "metadata": {}
  },
  {
   "cell_type": "code",
   "execution_count": 32,
   "metadata": {
    "tags": []
   },
   "outputs": [
    {
     "output_type": "stream",
     "name": "stdout",
     "text": "{'Aces': '5,813', 'Double Faults': '2,438', '1st Serve': '65%', '1st Serve Points Won': '74%', '2nd Serve Points Won': '56%', 'Break Points Faced': '5,480', 'Break Points Saved': '65%', 'Service Games Played': '13,338', 'Service Games Won': '86%', 'Total Service Points Won': '67%', '1st Serve Return Points Won': '34%', '2nd Serve Return Points Won': '55%', 'Break Points Opportunities': '9,376', 'Break Points Converted': '44%', 'Return Games Played': '12,964', 'Return Games Won': '32%', 'Return Points Won': '42%', 'Total Points Won': '54%'}\n"
    }
   ],
   "source": [
    "\"\"\"\n",
    "Scrape per-player stats.\n",
    "\"\"\"\n",
    "\n",
    "# Load URL in Selenium\n",
    "uri = \"https://www.atptour.com\"+player_urls[0].replace(\"overview\", \"player-stats\")\n",
    "driver.get(uri)\n",
    "soup = BeautifulSoup(driver.page_source, 'html.parser')\n",
    "\n",
    "time.sleep(1)\n",
    "\n",
    "# Scrape left-hand table\n",
    "table = soup.find('table', class_ = \"mega-table\")\n",
    "rows = [row for row in table.find_all('tr')]\n",
    "rows.pop(0)\n",
    "stats = {}\n",
    "for row in rows:\n",
    "    items = row.find_all('td')\n",
    "    stats[items[0].text.strip()] = items[1].text.strip()\n",
    "\n",
    "# Scrape right-hand table\n",
    "table = table.find_next_sibling()\n",
    "rows = [row for row in table.find_all('tr')]\n",
    "rows.pop(0)\n",
    "\n",
    "for row in rows:\n",
    "    items = row.find_all('td')\n",
    "    stats[items[0].text.strip()] = items[1].text.strip()\n",
    "\n",
    "print(stats)"
   ]
  },
  {
   "cell_type": "code",
   "execution_count": 20,
   "metadata": {},
   "outputs": [
    {
     "output_type": "execute_result",
     "data": {
      "text/plain": "    Rank              Name Country  Age  Points Tournaments  \\\n0      1    Novak Djokovic     SRB   33  11,260          18   \n1      2      Rafael Nadal     ESP   34   9,850          18   \n2      3     Dominic Thiem     AUT   27   9,125          21   \n3      4     Roger Federer     SUI   39   6,630          16   \n4      5   Daniil Medvedev     RUS   24   5,890          24   \n..   ...               ...     ...  ...     ...         ...   \n95    96      Marcos Giron     USA   27     684          28   \n96    97  Yannick Hanfmann     GER   28     682          26   \n97    98     Andreas Seppi     ITA   36     679          28   \n98    99    Federico Coria     ARG   28     671          35   \n99   100   Kamil Majchrzak     POL   24     650          24   \n\n                                           URI  \n0     /en/players/novak-djokovic/d643/overview  \n1       /en/players/rafael-nadal/n409/overview  \n2      /en/players/dominic-thiem/tb69/overview  \n3      /en/players/roger-federer/f324/overview  \n4    /en/players/daniil-medvedev/mm58/overview  \n..                                         ...  \n95      /en/players/marcos-giron/gc88/overview  \n96  /en/players/yannick-hanfmann/h997/overview  \n97     /en/players/andreas-seppi/sa93/overview  \n98    /en/players/federico-coria/ce77/overview  \n99   /en/players/kamil-majchrzak/mq75/overview  \n\n[100 rows x 7 columns]",
      "text/html": "<div>\n<style scoped>\n    .dataframe tbody tr th:only-of-type {\n        vertical-align: middle;\n    }\n\n    .dataframe tbody tr th {\n        vertical-align: top;\n    }\n\n    .dataframe thead th {\n        text-align: right;\n    }\n</style>\n<table border=\"1\" class=\"dataframe\">\n  <thead>\n    <tr style=\"text-align: right;\">\n      <th></th>\n      <th>Rank</th>\n      <th>Name</th>\n      <th>Country</th>\n      <th>Age</th>\n      <th>Points</th>\n      <th>Tournaments</th>\n      <th>URI</th>\n    </tr>\n  </thead>\n  <tbody>\n    <tr>\n      <th>0</th>\n      <td>1</td>\n      <td>Novak Djokovic</td>\n      <td>SRB</td>\n      <td>33</td>\n      <td>11,260</td>\n      <td>18</td>\n      <td>/en/players/novak-djokovic/d643/overview</td>\n    </tr>\n    <tr>\n      <th>1</th>\n      <td>2</td>\n      <td>Rafael Nadal</td>\n      <td>ESP</td>\n      <td>34</td>\n      <td>9,850</td>\n      <td>18</td>\n      <td>/en/players/rafael-nadal/n409/overview</td>\n    </tr>\n    <tr>\n      <th>2</th>\n      <td>3</td>\n      <td>Dominic Thiem</td>\n      <td>AUT</td>\n      <td>27</td>\n      <td>9,125</td>\n      <td>21</td>\n      <td>/en/players/dominic-thiem/tb69/overview</td>\n    </tr>\n    <tr>\n      <th>3</th>\n      <td>4</td>\n      <td>Roger Federer</td>\n      <td>SUI</td>\n      <td>39</td>\n      <td>6,630</td>\n      <td>16</td>\n      <td>/en/players/roger-federer/f324/overview</td>\n    </tr>\n    <tr>\n      <th>4</th>\n      <td>5</td>\n      <td>Daniil Medvedev</td>\n      <td>RUS</td>\n      <td>24</td>\n      <td>5,890</td>\n      <td>24</td>\n      <td>/en/players/daniil-medvedev/mm58/overview</td>\n    </tr>\n    <tr>\n      <th>...</th>\n      <td>...</td>\n      <td>...</td>\n      <td>...</td>\n      <td>...</td>\n      <td>...</td>\n      <td>...</td>\n      <td>...</td>\n    </tr>\n    <tr>\n      <th>95</th>\n      <td>96</td>\n      <td>Marcos Giron</td>\n      <td>USA</td>\n      <td>27</td>\n      <td>684</td>\n      <td>28</td>\n      <td>/en/players/marcos-giron/gc88/overview</td>\n    </tr>\n    <tr>\n      <th>96</th>\n      <td>97</td>\n      <td>Yannick Hanfmann</td>\n      <td>GER</td>\n      <td>28</td>\n      <td>682</td>\n      <td>26</td>\n      <td>/en/players/yannick-hanfmann/h997/overview</td>\n    </tr>\n    <tr>\n      <th>97</th>\n      <td>98</td>\n      <td>Andreas Seppi</td>\n      <td>ITA</td>\n      <td>36</td>\n      <td>679</td>\n      <td>28</td>\n      <td>/en/players/andreas-seppi/sa93/overview</td>\n    </tr>\n    <tr>\n      <th>98</th>\n      <td>99</td>\n      <td>Federico Coria</td>\n      <td>ARG</td>\n      <td>28</td>\n      <td>671</td>\n      <td>35</td>\n      <td>/en/players/federico-coria/ce77/overview</td>\n    </tr>\n    <tr>\n      <th>99</th>\n      <td>100</td>\n      <td>Kamil Majchrzak</td>\n      <td>POL</td>\n      <td>24</td>\n      <td>650</td>\n      <td>24</td>\n      <td>/en/players/kamil-majchrzak/mq75/overview</td>\n    </tr>\n  </tbody>\n</table>\n<p>100 rows × 7 columns</p>\n</div>"
     },
     "metadata": {},
     "execution_count": 20
    }
   ],
   "source": [
    "tennis_dict = {'Rank':ranks, 'Name':players, 'Country':countries, 'Age':ages, \"Points\":points, \"Tournaments\":tourns, \"URI\":player_urls}\n",
    "tennis_df = pd.DataFrame(tennis_dict)\n",
    "tennis_df"
   ]
  },
  {
   "cell_type": "markdown",
   "metadata": {},
   "source": [
    "### Data:\n",
    "\n",
    " * **acquisition**: web scraping\n",
    " * **storage**: flat files\n",
    " * **sources**: (as listed below or any other publicly available information)   \n",
    "  - movie: boxofficemojo.com, imdb.com   \n",
    "  - sports: sports-reference.com\n",
    "  \n",
    "\n",
    "### Skills:\n",
    "\n",
    " * basics of the web (requests, HTML, CSS, JavaScript)\n",
    " * web scraping\n",
    " * `numpy` and `pandas`\n",
    " * `statsmodels`, `scikit-learn`\n",
    "\n",
    "\n",
    "### Analysis:\n",
    "\n",
    " * linear regression is required, other regression methods are optional\n",
    "\n",
    "\n",
    "## Deliverable/communication:\n",
    "\n",
    " * organized project repository\n",
    " * slide presentation\n",
    " * visual and oral communication in presentations\n",
    " * write-up of process and results\n",
    "\n",
    "\n",
    "### Design:\n",
    "\n",
    " * iterative design process\n",
    " * \"MVP\"s and building outward\n",
    " * [stand-ups/scrums](https://en.wikipedia.org/wiki/Scrum_(software_development)) (1 minute progress updates to the class)\n",
    "\n",
    "\n",
    "## More information:\n",
    "\n",
    "We'll learn about web scraping using two popular tools - BeautifulSoup and Selenium. You must know the very basics of HTML. We can also evolve the way we use Jupyter notebooks; during this project, we begin to use the notebook as a development scratchpad, where we test things out through interactive scripting, but then solidify our work in python modules with reusable functions and classes.\n",
    "\n",
    "We'll practice using linear regression. We'll have a first taste of feature selection, this time based on our intuition and some trial and error, and we'll build and refine our models.\n",
    "\n",
    "This project will give you the freedom to challenge yourself, no matter your skill level. Find your boundaries and push them a little further. We are very excited to see what you will learn and do for Project Luther!"
   ]
  },
  {
   "cell_type": "code",
   "execution_count": null,
   "metadata": {},
   "outputs": [],
   "source": []
  }
 ],
 "metadata": {
  "kernelspec": {
   "name": "Python 3.8.5 64-bit",
   "display_name": "Python 3.8.5 64-bit",
   "metadata": {
    "interpreter": {
     "hash": "6c472b8915bc419c743ebcff76dbcf6e203ef99bf90689a3fba2566158d7e07a"
    }
   }
  },
  "language_info": {
   "codemirror_mode": {
    "name": "ipython",
    "version": 3
   },
   "file_extension": ".py",
   "mimetype": "text/x-python",
   "name": "python",
   "nbconvert_exporter": "python",
   "pygments_lexer": "ipython3",
   "version": "3.8.5-final"
  }
 },
 "nbformat": 4,
 "nbformat_minor": 4
}